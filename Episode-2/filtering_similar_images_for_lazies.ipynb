{
 "cells": [
  {
   "cell_type": "code",
   "execution_count": 33,
   "metadata": {
    "collapsed": false
   },
   "outputs": [],
   "source": [
    "import os\n",
    "import imagehash\n",
    "from PIL import Image\n",
    "from matplotlib.pyplot import imshow\n",
    "import numpy as np\n",
    "import distance"
   ]
  },
  {
   "cell_type": "code",
   "execution_count": 36,
   "metadata": {
    "collapsed": true
   },
   "outputs": [],
   "source": [
    "image = Image.open(\"split-1/903ab557b18bdfe2349543180a311cf20ae373ac49b3113c6280a058d8.jpg\")"
   ]
  },
  {
   "cell_type": "code",
   "execution_count": 37,
   "metadata": {
    "collapsed": false
   },
   "outputs": [
    {
     "data": {
      "text/plain": [
       "<matplotlib.image.AxesImage at 0x1100b7630>"
      ]
     },
     "execution_count": 37,
     "metadata": {},
     "output_type": "execute_result"
    },
    {
     "data": {
      "image/png": "[encoded data removed]",
      "text/plain": [
       "<matplotlib.figure.Figure at 0x10df01128>"
      ]
     },
     "metadata": {},
     "output_type": "display_data"
    }
   ],
   "source": [
    "%matplotlib inline\n",
    "imshow(np.asarray(image))"
   ]
  },
  {
   "cell_type": "code",
   "execution_count": 38,
   "metadata": {
    "collapsed": false
   },
   "outputs": [
    {
     "data": {
      "text/plain": [
       "'000002000000000000000048020000f01f48321064009c00320000e0f881e903'"
      ]
     },
     "execution_count": 38,
     "metadata": {},
     "output_type": "execute_result"
    }
   ],
   "source": [
    "x = str(imagehash.dhash(image, 16))\n",
    "x"
   ]
  },
  {
   "cell_type": "code",
   "execution_count": 43,
   "metadata": {
    "collapsed": false
   },
   "outputs": [
    {
     "data": {
      "text/plain": [
       "['Image',\n",
       " 'ImageHash',\n",
       " '__builtins__',\n",
       " '__cached__',\n",
       " '__doc__',\n",
       " '__file__',\n",
       " '__loader__',\n",
       " '__name__',\n",
       " '__package__',\n",
       " '__path__',\n",
       " '__spec__',\n",
       " '_binary_array_to_hex',\n",
       " 'average_hash',\n",
       " 'dhash',\n",
       " 'hex_to_hash',\n",
       " 'numpy',\n",
       " 'phash',\n",
       " 'phash_simple',\n",
       " 'scipy']"
      ]
     },
     "execution_count": 43,
     "metadata": {},
     "output_type": "execute_result"
    }
   ],
   "source": [
    "dir(imagehash)"
   ]
  },
  {
   "cell_type": "code",
   "execution_count": 34,
   "metadata": {
    "collapsed": false
   },
   "outputs": [],
   "source": [
    "image_list = [fname for fname in os.listdir(\"split-1\") if fname.endswith('.jpg')]"
   ]
  },
  {
   "cell_type": "code",
   "execution_count": 39,
   "metadata": {
    "collapsed": false
   },
   "outputs": [],
   "source": [
    "hashes = {}\n",
    "for fname in image_list:\n",
    "    im = Image.open(\"split-1/\" + fname)\n",
    "    hash_str = str(imagehash.dhash(im, 16))\n",
    "    hashes[fname] = hash_str"
   ]
  },
  {
   "cell_type": "code",
   "execution_count": 44,
   "metadata": {
    "collapsed": false
   },
   "outputs": [
    {
     "data": {
      "text/plain": [
       "['__all__',\n",
       " '__builtins__',\n",
       " '__cached__',\n",
       " '__doc__',\n",
       " '__file__',\n",
       " '__loader__',\n",
       " '__name__',\n",
       " '__package__',\n",
       " '__path__',\n",
       " '__spec__',\n",
       " '_fastcomp',\n",
       " '_iterators',\n",
       " '_lcsubstrings',\n",
       " '_levenshtein',\n",
       " '_pyimports',\n",
       " '_simpledists',\n",
       " 'array',\n",
       " 'fast_comp',\n",
       " 'hamming',\n",
       " 'ifast_comp',\n",
       " 'ilevenshtein',\n",
       " 'iquick_levenshtein',\n",
       " 'jaccard',\n",
       " 'lcsubstrings',\n",
       " 'levenshtein',\n",
       " 'nlevenshtein',\n",
       " 'quick_levenshtein',\n",
       " 'sorensen']"
      ]
     },
     "execution_count": 44,
     "metadata": {},
     "output_type": "execute_result"
    }
   ],
   "source": [
    "dir(distance)"
   ]
  },
  {
   "cell_type": "code",
   "execution_count": 40,
   "metadata": {
    "collapsed": false
   },
   "outputs": [
    {
     "name": "stdout",
     "output_type": "stream",
     "text": [
      "933cb057b18bc0f53e8f5c1c04311cf20ae373ac49b3103b6383af51df.jpg 8\n",
      "903abb57b08bc0fe3698431d00311cf20ae373ac49b310386f8bad54de.jpg 9\n",
      "923aad48bb80c0fd3092431007311cf20ae373ac49b3103b6382ac53dd.jpg 7\n",
      "923aad48bb80c0f43e8f5c1101311cf20ae373ac49b3103b6382ac50d9.jpg 7\n",
      "923aad48bb80c0ff328f5f1901311cf20ae373ac49b3113c6383a159d5.jpg 6\n",
      "903ab557b480c0fd3f93431b033215f201e215c24cb1143d6f8bab51df21.jpg 5\n",
      "903dba57b688c0fd309543180a3a15f201e215c24cb1143d6f8ba054dc26.jpg 5\n",
      "903dba57b780c0f5308f5f1a0b311cf20ae373ac49b3103b6e83a056dc.jpg 6\n",
      "903ab557b28bdae235945f07033916fb01e914a422b416396487ac53de2074.jpg 7\n",
      "933cb057b18bc0fd29965f13013817f86deb18ab4fb11538628aaa.jpg 6\n",
      "903dba57b780c0f5308f5f1a0b311cf20ae373ac49b310366e83af57da.jpg 6\n",
      "933cb057b18bc0f53e8f5c1c04311cf20ae373ac49b310366e82ad58d4.jpg 9\n",
      "903ab557b288dfe236915b07033915f201e215c24cb1143d6286ab53d527.jpg 3\n",
      "923aad48bb80c0fd3297431b063d15f201e215c24cb1143d628ba852de23.jpg 6\n",
      "903ab557b18bdfe23495431b01311cf20ae373ac49b3113c628ba859da.jpg 3\n",
      "903dba57b780c0fd3297431f00311cf20ae373ac49b3113c6285a159d5.jpg 7\n",
      "933cb057b189dbe23197431d05311cf20ae373ac49b310366e84ac52d8.jpg 8\n",
      "903cb057b28bd6e236985f07033d15f201e215c24cb1143d658aa851db2b.jpg 4\n",
      "903ab557b18bdfe23495431b01311cf20ae373ac49b3103b6382aa56d5.jpg 3\n",
      "903dba57b780c0fd31954318073b15f201e215c24cb1143d628ba958db23.jpg 6\n",
      "933cb057b089c0f4308f5f1907311cf20ae373ac49b3103b6e82a955dd.jpg 1\n",
      "933cb057b089c0f8318f5c1900311cf20ae373ac49b3103b6387aa54da.jpg 9\n",
      "903ab557b288dfe23691580703391bfb01e914a422b416396487ac55d82a77.jpg 7\n",
      "903dba57b780c0fd3297431f00311cf20ae373ac49b310366f83af56df.jpg 7\n",
      "903eb357b281dbe23f97431b033a15f201e215c24cb1143c6587a056d826.jpg 8\n",
      "923aad48bb80c0fe3597431d0b311cf20ae373ac49b3103b6381ae54db.jpg 9\n",
      "903dba57b780c0f5308f5f1a0b311cf20ae373ac49b3113c6285a854d4.jpg 6\n",
      "903dba57b780c0fd3297431f00311cf20ae373ac49b3103b6380ad55da.jpg 7\n",
      "903ab557b28bdae235945f07033916fb01e914a422b416396487ae56d52472.jpg 7\n",
      "903ab557b588c0fd3396431b063d15f201e215c24cb1143d628baa51d92b.jpg 4\n",
      "903dba57b688c0fd35984318013915f201e215c24cb1143d628baa57dd24.jpg 7\n",
      "933cb057b18bc0fd319643180b3815f201e215c24cb1143d6f8bad58db26.jpg 9\n",
      "903ab557b288dfe236915b07063b15f201e215c24cb1143d6284a055d821.jpg 3\n",
      "903ab557b18bdfe2349543180a311cf20ae373ac49b3103b6184aa55d8.jpg 3\n",
      "903ab557b28bdae235945f07033916fb01e914a422b41639648aa154d92770.jpg 7\n",
      "903ab557b18bdfe2349543180a311cf20ae373ac49b3103b6387ab55d4.jpg 3\n",
      "923aad4bbb97dff5308f5c110a311cf20ae373ac49b310366e8aab54d8.jpg 9\n",
      "903eb357b281dbe23f934318023c15f201e215c24cb1143c6587aa59d524.jpg 6\n",
      "903dba57b488c0f8368f5f1900311cf20ae373ac49b3103b6284ac52dc.jpg 7\n",
      "923aad48bb80c0fe3597431d0b311cf20ae373ac49b3103b6e82a858d9.jpg 9\n",
      "903ab557b288dfe236915b07063e15f201e215c24cb1143d628ba858dc24.jpg 3\n",
      "903eb357b281dbe23f934318023c15f201e215c24cb1143d6286ab58de26.jpg 6\n",
      "903ab557b480c0fd3098431a01311cf20ae373ac49b3103b6284af55d4.jpg 7\n",
      "903eb357b281dbe23f97431b033a15f201e215c24cb1143d6f8ba852d823.jpg 8\n",
      "933cb057b18bc0fd29965f13013817f86deb18ab4fb1173d6e8ba0.jpg 6\n",
      "903dba57b780c0f5308f5f1a0b311cf20ae373ac49b3103b628aad59d5.jpg 5\n",
      "933cb057b089c0f8318f5c1900311cf20ae373ac49b310366e87ab56db.jpg 9\n",
      "923aad48bb80c0ff328f5f1901311cf20ae373ac49b3103b6383a851df.jpg 5\n",
      "903ab557b288dfe236915b07063e15f201e215c24cb1143d6287a055de20.jpg 3\n",
      "903dba57b488c0f8368f5f1901311cf20ae373ac49b3103b6185a150d9.jpg 7\n",
      "923aad48bb80c0fd30924318063315f201e215c24cb1143d6287a152de26.jpg 7\n",
      "903dba57b780c0fd3297431f00311cf20ae373ac49b3103b6e80a057df.jpg 7\n",
      "903ab557b588c0fd3396431b063d15f201e215c24cb1143d6286a956d422.jpg 4\n",
      "903eb357b281dbe23f934318023c15f201e215c24cb1143d6284af59da27.jpg 6\n",
      "903dba57b780c0fd31954318073b15f201e215c24cb1143d6f8baf57df20.jpg 7\n",
      "903dba57b488c0f8368f5f1901311cf20ae373ac49b3113c6280a158d9.jpg 7\n",
      "923aad48bb80c0fd3297431b063d15f201e215c24cb1143d6286aa55d826.jpg 6\n",
      "923aad48bb80c0fd309443180b3c15f201e215c24cb1143d628ba853dc25.jpg 8\n",
      "903eb357b281dbe23f93431e03311cf20ae373ac49b3113c628baa57da.jpg 6\n",
      "923aad48bb80c0f5338f5f1d01311cf20ae373ac49b3113c6286a951d5.jpg 7\n",
      "923aad48b289c0fd3e92431d07311cf20ae373ac49b310386f80ab54d9.jpg 6\n",
      "903ab557b288dfe236915b07033915f201e215c24cb1143d6284a155de2b.jpg 3\n",
      "923aad48bb80c0f5338f5f1d01311cf20ae373ac49b3103b6382a055d4.jpg 7\n",
      "903db257b18bd9e23196431002311cf20ae373ac49b3103c6e83aa57de.jpg 9\n",
      "903ab557b288dfe236915b07063e15f201e215c24cb1143c6587a050d922.jpg 4\n",
      "903ab557b480c0fd3098431a01311cf20ae373ac49b3103b6184aa52d9.jpg 7\n",
      "903abb57b28fd8e23096431a0b311cf20ae373ac49b3113c6287ab59df.jpg 7\n",
      "903dba57b488c0f8368f5f1900311cf20ae373ac49b3113c6383ad50d4.jpg 7\n",
      "903ab557b480c0fd3098431a01311cf20ae373ac49b310366e80ad51d4.jpg 7\n",
      "933cb057b089c0f4308f5f1907311cf20ae373ac49b310366e86ae54dc.jpg 3\n",
      "903ab057b18dd6e2369454070b3315f201e215c24cb1143d6287ac59dc26.jpg 7\n",
      "923aad48bb80c0f43e8f5c1101311cf20ae373ac49b3113c6383ae59d4.jpg 7\n",
      "923aad48bb80c0fd30924318063315f201e215c24cb1143d628ba850d523.jpg 7\n",
      "933cb057b18bc0fd319643180b3815f201e215c24cb1143c6587aa52dd22.jpg 9\n",
      "903ab557b288dfe236915b07003215f201e215c24cb1143c6587aa52df20.jpg 4\n",
      "903ab557b288dfe236915b07003215f201e215c24cb1143d6284ae52df27.jpg 3\n",
      "903ab557b480c0fd3090431b073815f201e215c24cb1143d6f8bab50d926.jpg 6\n",
      "933cb057b089c0f4308f5f1907311cf20ae373ac49b3103b6381ab58d4.jpg 1\n",
      "903dba57b28fd7e23f8f541d08381cf90b851da94bb7163b6385af50.jpg 3\n",
      "923aad48bb80c0fd3092431007311cf20ae373ac49b310366e81aa58df.jpg 9\n",
      "923aad48bb80c0f5338f5f1d01311cf20ae373ac49b3103b6184a954de.jpg 7\n",
      "903ab557b288dfe236915b07063b15f201e215c24cb1143c6587ae58d826.jpg 4\n",
      "903eb357b281dbe23f93431e03311cf20ae373ac49b310366e84a859d4.jpg 6\n",
      "923aad48bb80c0fd3f91431b003215f201e215c24cb1143d6286a852db24.jpg 7\n",
      "903ab557b18bdfe2349543180a311cf20ae373ac49b3113c6280a058d8.jpg 0\n",
      "903ab557b480c0fd3090431b073815f201e215c24cb1143d6286ad56dc26.jpg 6\n",
      "903dba57b688c0fd309543180a3a15f201e215c24cb1143d6286ab54d420.jpg 5\n",
      "903abb57b28fd8e230934318013815f201e215c24cb1143c6587a051d520.jpg 6\n",
      "923aad48bb80c0fd3f91431b003215f201e215c24cb1143d6f8aa950df20.jpg 7\n",
      "903dba57b780c0fd31954318073b15f201e215c24cb1143c6587ad59d424.jpg 6\n",
      "923aad48bb80c0ff328f5f1901311cf20ae373ac49b3103b6e83a853d5.jpg 5\n",
      "923aad48bb80c0fd309443180b3c15f201e215c24cb1143d6286a954d92b.jpg 8\n",
      "903eb357b281dbe23f934318023c15f201e215c24cb1143d6f8bae54db20.jpg 6\n",
      "903ab557b288dfe236915b07063e15f201e215c24cb1143d6f8bac50de27.jpg 4\n",
      "923aad48bb80c0fd3092431007311cf20ae373ac49b3113c628aaf50dd.jpg 7\n",
      "923aad48bb80c0f43e8f5c1101311cf20ae373ac49b310366e84a151d5.jpg 7\n",
      "903ab557b288dfe236915b07033915f201e215c24cb1143d6f8aa955dc22.jpg 4\n",
      "903ab557b480c0fd3098431a01311cf20ae373ac49b3113c628bae55dd.jpg 7\n",
      "923aad48bb80c0fd328f551808381cf90b851da94bb71b376586a150.jpg 8\n",
      "903ab557b288dfe236915b07063b15f201e215c24cb1143d6f8ba054dd2a.jpg 4\n",
      "923aad48bb80c0ff328f5f1901311cf20ae373ac49b310366e86a956d8.jpg 6\n",
      "903ab557b588c0fd3396431b063d15f201e215c24cb1143d6f8bac59d426.jpg 4\n",
      "903eb357b281dbe23f93431e03311cf20ae373ac49b3103b6383a150dd.jpg 6\n",
      "903ab557b588c0fd3396431b063d15f201e215c24cb1143c6587aa53da22.jpg 4\n",
      "923aad48bb80c0f8328f541008381cf90b851da94bb7163b6180ab50.jpg 7\n",
      "903abb57b28fd8e230934318013815f201e215c24cb1143d6f8baf51d527.jpg 6\n",
      "903dba57b688c0fd309543180a3a15f201e215c24cb1143c6587af56d924.jpg 5\n",
      "923aad48bb80c0fe3499431108381cf90b851da94bb6113a668ba051.jpg 6\n",
      "903db757b189d9e236955907033915f201e215c24cb1143d6584a058db25.jpg 4\n",
      "933cb057b18bc0f53e8f5c1c04311cf20ae373ac49b3113c6284a154d5.jpg 9\n",
      "923aad48bb80c0f43e8f5c1101311cf20ae373ac49b3103b6e83a957df.jpg 7\n",
      "933cb057b18bc0fd3099431b01311cf20ae373ac49b3113c6281ae55df.jpg 5\n",
      "903ab557b28bdae235945f07033916fb01e914a422b416396580ad58dd2470.jpg 7\n",
      "903ab557b288dfe236915407033815f201e215c24cb1143d628baa51da2a.jpg 3\n",
      "903ab557b288dfe236915b07003215f201e215c24cb1143d6f8ba956dc2b.jpg 4\n",
      "903ab557b288dfe236915407033815f201e215c24cb1143d6287a055de23.jpg 3\n",
      "923aad48bb80c0f5338f5f1d01311cf20ae373ac49b310366e87a852d4.jpg 7\n",
      "903ab557b480c0fd3190431b013815f201e215c24cb1143d6f8baa55d523.jpg 8\n",
      "903dba57b488c0f8368f5f1901311cf20ae373ac49b3103b628aa154de.jpg 7\n",
      "903ab557b288dfe236915b07003215f201e215c24cb1143d6286a959df21.jpg 3\n",
      "903dba57b781c0fe368f541108381cf90b851da94bb716376583ab57.jpg 6\n",
      "903dba57b488c0f8368f5f1901311cf20ae373ac49b310366e84a152d4.jpg 7\n",
      "933cb057b189dbe23197431e03311cf20ae373ac49b3103b628aaf52d4.jpg 8\n",
      "933cb057b18bc0fd319643180b3815f201e215c24cb1143d6284a154df25.jpg 9\n",
      "903ab557b288dfe236915b07063b15f201e215c24cb1143d6286ad55d52b.jpg 3\n",
      "903dba57b488c0f8368f5f1900311cf20ae373ac49b310366e87ae57de.jpg 7\n",
      "903dba57b688c0fd35984318013915f201e215c24cb1143d6287a051dd25.jpg 7\n",
      "923aad48bb80c0f8328f541008381cf90b851da94bb71b376183ab51.jpg 7\n",
      "903dba57b781c0fe368f541108381cf90b851da94bb7163a658baf54.jpg 6\n",
      "903abb57b28fd8e23096431a0b311cf20ae373ac49b310366e85af53de.jpg 7\n",
      "923aad48bb80c0fd3092431007311cf20ae373ac49b3103b6e83af50d5.jpg 7\n",
      "903ab557b18bdfe2349543180a311cf20ae373ac49b310366e86af55de.jpg 3\n",
      "903eb357b281dbe23f93431e03311cf20ae373ac49b3103b6e80a056de.jpg 6\n",
      "903ab557b288dfe236915b07033915f201e215c24cb1143c6587af50d924.jpg 4\n",
      "903ab557b288dfe23691580703391bfb01e914a422b416396487a152da237e.jpg 7\n",
      "933cb057b18bc0fd319643180b3815f201e215c24cb1143d6286a950dd25.jpg 9\n",
      "933cb057b18bc0f53e8f5c1c04311cf20ae373ac49b3103b6e81a955da.jpg 8\n",
      "903ab557b288dfe23691580703391bfb01e914a422b41639648aa151da2a75.jpg 7\n",
      "923aad48bb80c0fd3f91431b003215f201e215c24cb1143c6587ad52df2b.jpg 6\n",
      "903dba57b688c0fd309543180a3a15f201e215c24cb1143d6284a154d52b.jpg 5\n"
     ]
    }
   ],
   "source": [
    "%matplotlib inline\n",
    "for k,v in hashes.items():\n",
    "    diff = distance.hamming(x, v)\n",
    "    if diff < 10:\n",
    "        print(k, diff)"
   ]
  },
  {
   "cell_type": "code",
   "execution_count": 42,
   "metadata": {
    "collapsed": false
   },
   "outputs": [
    {
     "data": {
      "text/plain": [
       "<matplotlib.image.AxesImage at 0x10dec14e0>"
      ]
     },
     "execution_count": 42,
     "metadata": {},
     "output_type": "execute_result"
    },
    {
     "data": {
      "image/png": "[encoded data removed]",
      "text/plain": [
       "<matplotlib.figure.Figure at 0x110c61550>"
      ]
     },
     "metadata": {},
     "output_type": "display_data"
    }
   ],
   "source": [
    "%matplotlib inline\n",
    "image = Image.open(\"split-1/923aad48bb80c0fd30924318063315f201e215c24cb1143d6287a152de26.jpg\")\n",
    "imshow(np.asarray(image))"
   ]
  },
  {
   "cell_type": "code",
   "execution_count": null,
   "metadata": {
    "collapsed": true
   },
   "outputs": [],
   "source": []
  }
 ],
 "metadata": {
  "kernelspec": {
   "display_name": "Python 3",
   "language": "python",
   "name": "python3"
  },
  "language_info": {
   "codemirror_mode": {
    "name": "ipython",
    "version": 3
   },
   "file_extension": ".py",
   "mimetype": "text/x-python",
   "name": "python",
   "nbconvert_exporter": "python",
   "pygments_lexer": "ipython3",
   "version": "3.5.1"
  }
 },
 "nbformat": 4,
 "nbformat_minor": 0
}
